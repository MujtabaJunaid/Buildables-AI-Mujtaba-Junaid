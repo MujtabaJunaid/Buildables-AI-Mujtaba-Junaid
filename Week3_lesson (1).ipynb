{
 "cells": [
  {
   "cell_type": "markdown",
   "id": "326819b3",
   "metadata": {},
   "source": [
    "# **🚀 This assignment will be your 1st month Project**\n",
    "#  My answers everywhere are next to the questions, sorry for the inconvenienve "
   ]
  },
  {
   "cell_type": "markdown",
   "id": "7c17a106",
   "metadata": {},
   "source": [
    "But first i want you to give me a recap of your learning"
   ]
  },
  {
   "cell_type": "markdown",
   "id": "e344fae3",
   "metadata": {},
   "source": [
    "## **Give a recap of notebook 1**\n",
    "\n",
    "👉 I understood:\n",
    "  What is AI.\n",
    "What are LLM.\n",
    "What are API.\n",
    "Jupyter notebook or Google colab.\n",
    "Save and share your notebook using GitHub."
   ]
  },
  {
   "cell_type": "markdown",
   "id": "0d9ec9bc",
   "metadata": {},
   "source": [
    "## **Give a recap of notebook 2**\n",
    "\n",
    "👉 I underatood:  What is AI.\n",
    "What are LLM.\n",
    "What are API.\n",
    "Jupyter notebook or Google colab.\n",
    "Save and share your notebook using GitHub."
   ]
  },
  {
   "cell_type": "markdown",
   "id": "21ab407b",
   "metadata": {},
   "source": [
    "## **Give a recap of notebook 3**\n",
    "\n",
    "👉 Your task is to design, justify, and build a fully functional chatbot using Groq LLMs. Follow the steps below carefully and document every choice you make."
   ]
  },
  {
   "cell_type": "markdown",
   "id": "fa076681",
   "metadata": {},
   "source": [
    "# 📚 Chatbot Development Project – Guideline\n",
    "\n",
    "Your task is to **design, justify, and build a fully functional chatbot** using **Groq LLMs**. Follow the steps below carefully and document every choice you make.\n",
    "\n",
    "## **1. Choose a Use Case**\n",
    "\n",
    "* **Pick a real-world problem** that a chatbot can solve.\n",
    "  Examples:\n",
    "\n",
    "  * Customer support assistant for a local business.\n",
    "  * Mental wellness daily check-in bot.\n",
    "  * Educational Q\\&A bot for a subject (math, history, etc.).\n",
    "  * Travel planner bot that recommends itineraries.\n",
    "\n",
    "**What to do:**\n",
    "\n",
    "* Write a short paragraph explaining **why you chose this use case**.\n",
    "* It is a Health chat bot help people design aid people in health issues\n",
    "* Identify **target users** (who will use it) and **expected benefits**.\n",
    "* 18+ to 50\n",
    "* List **limitations** (what it cannot do).\n",
    "* It can only diagnose not treat\n",
    "\n",
    "## **2. Justify Your Choice**\n",
    "\n",
    "Answer these questions clearly:\n",
    "\n",
    "* Why is this problem worth solving with a chatbot?\n",
    "* It is a Health chat bot help people design aid people in health issues\n",
    "* How does a chatbot improve the experience compared to a website, app, or human support?\n",
    "* It helps complement the user experience\n",
    "* What specific tasks will your chatbot perform?\n",
    "* Diagnose the problem for user to be able to decide his / her need for a doctor.\n",
    "\n",
    "## **3. Select the LLM (Use Groq)**\n",
    "\n",
    "* Groq provides **fast inference** and supports models like **Llama 3, Mixtral, Gemma**.\n",
    "\n",
    "**What to do:**\n",
    "\n",
    "* Research which Groq-supported model you want to use (e.g., `llama3-8b`, `mixtral-8x7b`).\n",
    "* LIAMA 3\n",
    "* Explain **why this model fits your use case**:\n",
    "It is more decriptive and it helps in diagnosis\n",
    "  * Size (smaller models are cheaper/faster, bigger ones are smarter).\n",
    "  * Language support (if you need multilingual responses).\n",
    "  * Speed requirements (real-time response is important for chat).\n",
    "\n",
    "## **4. Design the Conversation Flow**\n",
    "\n",
    "Before you write any code, plan how the chatbot will talk.\n",
    "\n",
    "**What to do:**\n",
    "\n",
    "* Write **sample user inputs** and **expected responses**.\n",
    "* Decide how your chatbot will handle:\n",
    "\n",
    "  * Unknown questions (fallback response).\n",
    "  * Service Unavailable or No prior knowledge and also a disclaimer that it is not a doctor\n",
    "  * Greeting and goodbye messages.\n",
    "  * Hope you get better\n",
    "  * Context memory (should it remember previous messages?).\n",
    "  * Only the ones with diagnosis it made\n",
    "\n",
    "## **5. Choose a Prompting Technique**\n",
    "\n",
    "Prompting is how you tell the model what to do.\n",
    "\n",
    "**Examples of techniques:**\n",
    "\n",
    "    * **Zero-shot prompting:** No examples, just direct instructions.\n",
    "    * **Few-shot prompting:** Give 2–3 examples of input-output pairs so the model learns the pattern.\n",
    "    * **Chain-of-thought prompting:** Ask the model to explain its reasoning step by step (for reasoning-heavy tasks).\n",
    "    * **System prompt design:** Set the \"persona\" of the chatbot (friendly teacher, expert advisor, etc.).\n",
    "    \n",
    "\n",
    "**What to do:**\n",
    "\n",
    "    * Clearly mention **which prompting technique(s) you used**.\n",
    "      Few shot prompting\n",
    "    * Justify your choice — why was this the best method for your use case?\n",
    "     To help explain the pattern of response to AI and not just memorize the use cases as diagnosis differs with every person\n",
    "    * Show a sample of your actual **prompt template** (system + user message).\n",
    "    System : You are a health Advisor with 3 years of experience. Remember you're not a doctor\n",
    "    User 1: Hello, I have severe backpain . What do I do ?\n",
    "    Bot : Good to have you. So , sorry to hear that. Can you describe the pain, like tingling, continouis ?\n",
    "    \n",
    "    \n",
    "\n",
    "## **6. (Optional) Add a Frontend**\n",
    "\n",
    "* Create a simple web interface (Flask or Streamlit) so others can try your chatbot.\n",
    "* Heroku+ fast API  for backend and react+ gh pages for frontend\n",
    "* Bonus points if you make it visually appealing and user-friendly.\n"
   ]
  },
  {
   "cell_type": "markdown",
   "id": "e39c1794",
   "metadata": {},
   "source": []
  }
 ],
 "metadata": {
  "kernelspec": {
   "display_name": "Python 3 (ipykernel)",
   "language": "python",
   "name": "python3"
  },
  "language_info": {
   "codemirror_mode": {
    "name": "ipython",
    "version": 3
   },
   "file_extension": ".py",
   "mimetype": "text/x-python",
   "name": "python",
   "nbconvert_exporter": "python",
   "pygments_lexer": "ipython3",
   "version": "3.12.4"
  }
 },
 "nbformat": 4,
 "nbformat_minor": 5
}
