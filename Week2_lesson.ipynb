{
 "cells": [
  {
   "cell_type": "markdown",
   "id": "bf6da588",
   "metadata": {},
   "source": [
    "# **Buckle Up ! We are starting our week 2 roller coaster**\n",
    "\n",
    "In our first week we covered some theoritical concepts and completed our setup so its time we start building!"
   ]
  },
  {
   "cell_type": "markdown",
   "id": "ca6b55c5",
   "metadata": {},
   "source": [
    "## 📓**Conversational AI Concepts & Model Pipelines**"
   ]
  },
  {
   "cell_type": "markdown",
   "id": "f1b7ace2",
   "metadata": {},
   "source": [
    "🎯 By the end of this week, you will:\n",
    "\n",
    "- Understand LLMs, STT, TTS models and their roles.\n",
    "\n",
    "- Know how to connect to LLMs with APIs (Groq as example).\n",
    "\n",
    "- Use Python (requests + JSON) for API interaction.\n",
    "\n",
    "- Start building a basic chatbot with memory and preprocessing."
   ]
  },
  {
   "cell_type": "markdown",
   "id": "8e3c5144",
   "metadata": {},
   "source": [
    "---\n",
    "\n",
    "## 🌟 Large Language Models (LLMs) 🌟"
   ]
  },
  {
   "cell_type": "markdown",
   "id": "03968dc4",
   "metadata": {},
   "source": [
    "---\n",
    "\n",
    "### ❗ **Question 1**: What is an LLM?"
   ]
  },
  {
   "cell_type": "markdown",
   "id": "9dd894fc",
   "metadata": {},
   "source": [
    "👉 It’s like a super-smart text predictor that can read, understand, and generate human-like sentences.\n",
    "\n",
    "You give it some words → it guesses the next words in a way that makes sense.\n",
    "\n",
    "For example:\n",
    "\n",
    "1) You ask a question → it gives you an answer.\n",
    "\n",
    "2) You write a sentence → it can complete it.\n",
    "\n",
    "3) You give it a topic → it can write an essay, code, or even a story.\n",
    "\n",
    "So, its a type of AI trained on huge amounts of text data to generate or understand text.\n",
    "\n",
    "---"
   ]
  },
  {
   "cell_type": "markdown",
   "id": "77076ddc",
   "metadata": {},
   "source": [
    "### Types of LLMs\n",
    "\n",
    "1. Encoder-only models (e.g., BERT)\n",
    "\n",
    "    - Best for understanding text (classification, sentiment analysis, embeddings).\n",
    "\n",
    "    - ❌ Not good at generating text.\n",
    "\n",
    "2. Decoder-only models (e.g., GPT, LLaMA, Mistral)\n",
    "\n",
    "    - Best for text generation (chatbots, writing, summarization).\n",
    "\n",
    "    - What we use in chatbots.\n",
    "\n",
    "3. Encoder-decoder models (e.g., T5, BART)\n",
    "\n",
    "    - Good at transforming text (translation, summarization, Q&A)."
   ]
  },
  {
   "cell_type": "markdown",
   "id": "339099fe",
   "metadata": {},
   "source": [
    "### Must-Knows about LLMs\n",
    "\n",
    "- They don’t “think” like humans → They predict text based on training.\n",
    "\n",
    "- Garbage in → garbage out: Poor prompts = poor answers.\n",
    "\n",
    "- Token limits: Models can only “see” a certain number of words at a time.\n",
    "\n",
    "- Biases: Trained on internet text → may reflect biases/errors."
   ]
  },
  {
   "cell_type": "markdown",
   "id": "8b1b2dd4",
   "metadata": {},
   "source": [
    "### 💡 **Quick Questions**: "
   ]
  },
  {
   "cell_type": "markdown",
   "id": "7753565a",
   "metadata": {},
   "source": [
    "1. Why might a chatbot built on BERT (encoder-only) struggle to answer open-ended questions?\n",
    "\n",
    "- Answer 👉"
   ]
  },
  {
   "cell_type": "markdown",
   "id": "a5feffca",
   "metadata": {},
   "source": [
    "---\n",
    "\n",
    "## 🌟 Speech-to-Text (STT) 🌟"
   ]
  },
  {
   "cell_type": "markdown",
   "id": "9393abf7",
   "metadata": {},
   "source": [
    "---\n",
    "\n",
    "### ❗ **Question 2**: What is STT?"
   ]
  },
  {
   "cell_type": "markdown",
   "id": "3f54ac00",
   "metadata": {},
   "source": [
    "👉 listens to your voice and turns it into written text.\n",
    "\n",
    "- Converts **audio → text**.\n",
    "- Enables voice input for conversational AI.\n",
    "- Think of it as the **ears** of the chatbot.\n",
    "\n",
    "**Popular STT Models**:\n",
    "\n",
    "1) **Whisper (OpenAI)** – strong at multilingual speech recognition.\n",
    "2) **Google Speech-to-Text API** – widely used, real-time transcription.\n",
    "3) **Vosk** – lightweight, offline speech recognition.\n",
    "\n",
    "**Common Usages**\n",
    "\n",
    "1) Voice assistants (Alexa, Siri, Google Assistant).\n",
    "2) Automated captions in meetings or lectures.\n",
    "3) Voice-enabled customer support.\n",
    "\n",
    "---"
   ]
  },
  {
   "cell_type": "markdown",
   "id": "cc99714c",
   "metadata": {},
   "source": [
    "### Must-Knows about STT\n",
    "\n",
    "- Accuracy depends on **noise, accents, clarity of speech**.\n",
    "\n",
    "- Some models need **internet connection** (API-based), others run **offline**.\n",
    "\n",
    "- Preprocessing audio (noise reduction) improves results.\n"
   ]
  },
  {
   "cell_type": "markdown",
   "id": "ec23bf9a",
   "metadata": {},
   "source": [
    "### 💡 **Quick Questions**: "
   ]
  },
  {
   "cell_type": "markdown",
   "id": "407d8a82",
   "metadata": {},
   "source": [
    "2. Why do you think meeting transcription apps like Zoom or Google Meet struggle when multiple people talk at once?\n",
    "\n",
    "- Answer 👉"
   ]
  },
  {
   "cell_type": "markdown",
   "id": "f2959a81",
   "metadata": {},
   "source": [
    "---\n",
    "\n",
    "## 🌟 Text-to-Speech (TTS) 🌟"
   ]
  },
  {
   "cell_type": "markdown",
   "id": "6650b62d",
   "metadata": {},
   "source": [
    "---\n",
    "\n",
    "### ❗ **Question 3**: What is TTS?"
   ]
  },
  {
   "cell_type": "markdown",
   "id": "c1adffa9",
   "metadata": {},
   "source": [
    "👉 takes written text and speaks it out loud in a human-like voice.\n",
    "\n",
    "- Converts **text → audio (speech)**.\n",
    "- Think of it as the **mouth** of the chatbot.\n",
    "- Makes AI “speak” naturally.\n",
    "\n",
    "**Popular TTS Models**:\n",
    "\n",
    "1) **Google TTS** – supports many languages and voices.\n",
    "2) **Amazon Polly** – lifelike voice synthesis with customization.\n",
    "3) **ElevenLabs** – cutting-edge, realistic voice cloning.\n",
    "\n",
    "**Common Usages**\n",
    "\n",
    "1) Screen readers for visually impaired users.\n",
    "2) AI chatbots with voice output.\n",
    "3) Audiobooks or podcast generation.\n",
    "\n",
    "---"
   ]
  },
  {
   "cell_type": "markdown",
   "id": "cfdb2471",
   "metadata": {},
   "source": [
    "### Must-Knows about TTS\n",
    "\n",
    "- Some voices sound robotic; others use **neural TTS** for natural tones.\n",
    "\n",
    "- Latency matters → If too slow, conversation feels unnatural.\n",
    "\n",
    "- Some TTS services allow **custom voices**."
   ]
  },
  {
   "cell_type": "markdown",
   "id": "ee49cb51",
   "metadata": {},
   "source": [
    "### 💡 **Quick Questions**: "
   ]
  },
  {
   "cell_type": "markdown",
   "id": "ee8f3eb2",
   "metadata": {},
   "source": [
    "3. If you were designing a voice-based AI tutor, what qualities would you want in its TTS voice (tone, speed, clarity, etc.)?\n",
    "\n",
    "- Answer 👉"
   ]
  },
  {
   "cell_type": "markdown",
   "id": "8042c582",
   "metadata": {},
   "source": [
    "---\n",
    "\n",
    "## 🌟 Using APIs for LLMs with Groq 🌟"
   ]
  },
  {
   "cell_type": "code",
   "execution_count": null,
   "id": "7889d8ee",
   "metadata": {},
   "outputs": [
    {
     "name": "stdout",
     "output_type": "stream",
     "text": [
      "Conversational AI refers to the technology that enables computers or digital systems to simulate human-like conversations with humans. This is achieved through the use of natural language processing (NLP) and machine learning algorithms that allow AI systems to understand, interpret, and respond to human input in a way that feels natural and intuitive.\n",
      "\n",
      "Conversational AI can take many forms, including:\n",
      "\n",
      "1. **Chatbots**: These are AI-powered software programs that can engage in text-based conversations with humans, often used to provide customer support, answer frequently asked questions, or facilitate transactions.\n",
      "2. **Virtual assistants**: These are AI-powered digital assistants, such as Siri, Google Assistant, or Alexa, that can understand voice commands and respond with relevant information or actions.\n",
      "3. **Voice-controlled interfaces**: These are AI-powered interfaces that allow users to interact with devices using voice commands, such as smart speakers or home automation systems.\n",
      "4. **Live chat applications**: These are AI-powered chat platforms that allow humans to interact with companies or organizations in real-time, often used for customer support or sales purposes.\n",
      "\n",
      "The key characteristics of conversational AI include:\n",
      "\n",
      "1. **Natural language understanding**: The ability to comprehend human language and syntax.\n",
      "2. **Contextual understanding**: The ability to understand the context of the conversation and respond accordingly.\n",
      "3. **Sentiment analysis**: The ability to recognize and respond to emotions and tone.\n",
      "4. **Flexibility**: The ability to adapt to changing conversation flows and user inputs.\n",
      "\n",
      "Conversational AI has many applications, including:\n",
      "\n",
      "1. **Customer service**: AI-powered chatbots can provide 24/7 customer support and answer frequently asked questions.\n",
      "2. **Sales**: Conversational AI can be used to engage with customers, answer product inquiries, and facilitate transactions.\n",
      "3. **Healthcare**: Conversational AI can be used to provide patient support, answer medical questions, and facilitate health education.\n",
      "4. **Education**: Conversational AI can be used to provide personalized feedback, answer student questions, and facilitate learning.\n",
      "\n",
      "Overall, conversational AI has the potential to revolutionize the way we interact with technology and each other, making communication more natural, intuitive, and accessible.\n"
     ]
    }
   ],
   "source": [
    "from groq import Groq\n",
    "\n",
    "client = Groq(api_key=\"\")\n",
    "\n",
    "response = client.chat.completions.create(\n",
    "    model=\"llama-3.1-8b-instant\",\n",
    "    messages=[{\"role\": \"user\", \"content\": \"Hello! What is conversational AI?\"}]\n",
    ")\n",
    "\n",
    "print(response.choices[0].message.content)\n"
   ]
  },
  {
   "cell_type": "markdown",
   "id": "a56c20eb",
   "metadata": {},
   "source": [
    "---\n",
    "\n",
    "## 🌟 Assignments 🌟"
   ]
  },
  {
   "cell_type": "markdown",
   "id": "2bcc2ce6",
   "metadata": {},
   "source": [
    "### 📝 Assignment 1: LLM Understanding\n",
    "\n",
    "* Write a short note (3–4 sentences) explaining the difference between **encoder-only, decoder-only, and encoder-decoder LLMs**.\n",
    "* Give one example usage of each.\n",
    "\n",
    "Encoder-only models (like BERT) are designed to understand and create rich contextual representations of input text. They are best for tasks where deep comprehension is key, such as sentiment analysis or named entity recognition.\n",
    "Example: Classifying if a product review is positive or negative.\n",
    "\n",
    "Decoder-only models (like GPT) are designed for text generation. They predict the next most likely word in a sequence, making them ideal for creative or conversational tasks.\n",
    "Example: Writing a story continuation or a marketing email.\n",
    "\n",
    "Encoder-decoder models (like T5) are designed for transformation tasks, where the input and output can be in different forms or languages. The encoder understands the input, and the decoder generates the corresponding output.\n",
    "Example: Translating an English sentence into French.\n"
   ]
  },
  {
   "cell_type": "markdown",
   "id": "370084b8",
   "metadata": {},
   "source": [
    "### 📝 Assignment 2: STT/TTS Exploration\n",
    "\n",
    "* Find **one STT model** and **one TTS model** (other than Whisper/Google).\n",
    "* Write down:\n",
    "\n",
    "  * What it does.\n",
    "  * One possible application.\n",
    "\n",
    "STT Model: Meta's MMS (Massively Multilingual Speech)\n",
    "\n",
    "What it does: It is a single model that can transcribe speech to text in over 1,100 languages, even from low-resource languages that are typically unsupported.\n",
    "\n",
    "Application: Creating accessible transcription tools for historical audio archives or community recordings in endangered languages.\n",
    "\n",
    "TTS Model: ElevenLabs\n",
    "\n",
    "What it does: It generates highly realistic and emotionally expressive synthetic speech in multiple languages and voices from text input.\n",
    "\n",
    "Application: Producing voiceovers for audiobooks or educational videos with a consistent and engaging narrator voice."
   ]
  },
  {
   "cell_type": "markdown",
   "id": "84824b65",
   "metadata": {},
   "source": [
    "### 📝 Assignment 3: Build a Chatbot with Memory\n",
    "\n",
    "* Write a Python program that:\n",
    "\n",
    "  * Takes user input in a loop.\n",
    "  * Sends it to Groq API.\n",
    "  * Stores the last 5 messages in memory.\n",
    "  * Ends when user types `\"quit\"`.\n",
    "\n"
   ]
  },
  {
   "cell_type": "code",
   "execution_count": 2,
   "id": "0fd255ec-7449-4386-893a-3c680ccf527c",
   "metadata": {},
   "outputs": [
    {
     "name": "stdin",
     "output_type": "stream",
     "text": [
      "You:  My name is Mujtaba. WHat is your name and Role ?\n"
     ]
    },
    {
     "name": "stdout",
     "output_type": "stream",
     "text": [
      "Assistant: Nice to meet you, Mujtaba! My name is Ada, and I'm a helpful assistant. I'm a computer program designed to assist and communicate with users like you in a helpful and friendly way. My role is to provide information, answer questions, and help with tasks to the best of my abilities. I'm here to assist you with any queries or needs you may have, so please feel free to ask me anything!\n"
     ]
    },
    {
     "name": "stdin",
     "output_type": "stream",
     "text": [
      "You:  Alright, Welcome Ada. So, can you please explain my work schedule for today ?\n"
     ]
    },
    {
     "name": "stdout",
     "output_type": "stream",
     "text": [
      "Assistant: I'm happy to help! However, I apologize, but I don't have any information about your work schedule. As a helpful assistant, I am not connected to your personal or professional life outside of our conversation. I don't have access to your calendar or work schedule.\n",
      "\n",
      "If you would like to share your schedule with me, I'd be happy to help you remember or plan your day. Alternatively, you can also check your own calendar or ask your employer or HR department for your schedule information.\n"
     ]
    },
    {
     "name": "stdin",
     "output_type": "stream",
     "text": [
      "You:  Alright, that's fine. I want you to lookup , what's the name of bowler in ICC ranking no. 1 ?\n"
     ]
    },
    {
     "name": "stdout",
     "output_type": "stream",
     "text": [
      "Assistant: As of my latest data update, the ICC Test Bowling Rankings (which are the most widely recognized and authoritative rankings in the world of cricket) have Pat Cummins from Australia as the number 1 bowler!\n"
     ]
    },
    {
     "name": "stdin",
     "output_type": "stream",
     "text": [
      "You:  Alright, good. Now, can you recall the first thing I said to you ? In my first prompt what did I say to you ?\n"
     ]
    },
    {
     "name": "stdout",
     "output_type": "stream",
     "text": [
      "Assistant: Your first prompt was: \"Alright, Welcome Ada. So, can you please explain my work schedule for today?\"\n"
     ]
    },
    {
     "name": "stdin",
     "output_type": "stream",
     "text": [
      "You:  Good, Bye.\n"
     ]
    },
    {
     "name": "stdout",
     "output_type": "stream",
     "text": [
      "Assistant: Goodbye! It was nice chatting with you. If you have any other questions or need assistance in the future, don't hesitate to reach out. Have a great day!\n"
     ]
    },
    {
     "name": "stdin",
     "output_type": "stream",
     "text": [
      "You:  quit\n"
     ]
    }
   ],
   "source": [
    "import os\n",
    "from groq import Groq\n",
    "\n",
    "client = Groq(api_key=\"Your_api_key\") # api  key removed for safety purposes\n",
    "conversation_memory = []\n",
    "\n",
    "while True:\n",
    "    user_input = input(\"You: \")\n",
    "    if user_input.lower() == \"quit\":\n",
    "        break\n",
    "\n",
    "    conversation_memory.append({\"role\": \"user\", \"content\": user_input})\n",
    "    recent_messages = conversation_memory[-5:]\n",
    "\n",
    "    chat_completion = client.chat.completions.create(\n",
    "        messages=[{\"role\": \"system\", \"content\": \"You are a helpful assistant.\"}] + recent_messages,\n",
    "        model=\"llama3-8b-8192\",\n",
    "    )\n",
    "\n",
    "    assistant_response = chat_completion.choices[0].message.content\n",
    "    print(\"Assistant:\", assistant_response)\n",
    "    conversation_memory.append({\"role\": \"assistant\", \"content\": assistant_response})"
   ]
  },
  {
   "cell_type": "markdown",
   "id": "1aef3132",
   "metadata": {},
   "source": [
    "### 📝 Assignment 4: Preprocessing Function\n",
    "\n",
    "* Write a function to clean user input:\n",
    "\n",
    "  * Lowercase text.\n",
    "  * Remove punctuation.\n",
    "  * Strip extra spaces.\n",
    "\n",
    "Test with: `\"  HELLo!!!  How ARE you?? \"`\n",
    "\n",
    "\n"
   ]
  },
  {
   "cell_type": "code",
   "execution_count": 3,
   "id": "cd658787-b730-4d5a-86b7-4da3d359eae8",
   "metadata": {},
   "outputs": [
    {
     "name": "stdout",
     "output_type": "stream",
     "text": [
      "hello how are you\n"
     ]
    }
   ],
   "source": [
    "import string\n",
    "\n",
    "def clean_input(text):\n",
    "    text = text.lower()\n",
    "    text = text.translate(str.maketrans('', '', string.punctuation))\n",
    "    text = ' '.join(text.split())\n",
    "    return text\n",
    "\n",
    "test_text = \"  HELLo!!!  How ARE you?? \"\n",
    "print(clean_input(test_text))"
   ]
  },
  {
   "cell_type": "markdown",
   "id": "53027998",
   "metadata": {},
   "source": [
    "### 📝 Assignment 5: Text Preprocessing\n",
    "\n",
    "* Write a function that:\n",
    "\n",
    "    * Converts text to lowercase.\n",
    "    * Removes punctuation & numbers.\n",
    "    * Removes stopwords (`the, is, and...`).\n",
    "    * Applies stemming or lemmatization.\n",
    "    * Removes words shorter than 3 characters.\n",
    "    * Keeps only nouns, verbs, and adjectives (using POS tagging)."
   ]
  },
  {
   "cell_type": "code",
   "execution_count": 9,
   "id": "44022b6f-b7b9-4252-a39e-ba3e7fa7dd37",
   "metadata": {},
   "outputs": [
    {
     "name": "stderr",
     "output_type": "stream",
     "text": [
      "[nltk_data] Downloading package punkt to\n",
      "[nltk_data]     C:\\Users\\Mujtaba\\AppData\\Roaming\\nltk_data...\n",
      "[nltk_data]   Package punkt is already up-to-date!\n",
      "[nltk_data] Downloading package stopwords to\n",
      "[nltk_data]     C:\\Users\\Mujtaba\\AppData\\Roaming\\nltk_data...\n",
      "[nltk_data]   Package stopwords is already up-to-date!\n",
      "[nltk_data] Downloading package wordnet to\n",
      "[nltk_data]     C:\\Users\\Mujtaba\\AppData\\Roaming\\nltk_data...\n",
      "[nltk_data]   Package wordnet is already up-to-date!\n",
      "[nltk_data] Downloading package averaged_perceptron_tagger_eng to\n",
      "[nltk_data]     C:\\Users\\Mujtaba\\AppData\\Roaming\\nltk_data...\n",
      "[nltk_data]   Unzipping taggers\\averaged_perceptron_tagger_eng.zip.\n"
     ]
    },
    {
     "name": "stdout",
     "output_type": "stream",
     "text": [
      "['cat', 'run', 'john', 'dog']\n"
     ]
    }
   ],
   "source": [
    "import re\n",
    "import nltk\n",
    "from nltk.corpus import stopwords, wordnet\n",
    "from nltk.stem import WordNetLemmatizer\n",
    "from nltk import pos_tag, word_tokenize\n",
    "\n",
    "nltk.download(\"punkt\")\n",
    "nltk.download(\"stopwords\")\n",
    "nltk.download(\"wordnet\")\n",
    "nltk.download(\"averaged_perceptron_tagger_eng\") \n",
    "def get_wordnet_pos(tag):\n",
    "    if tag.startswith(\"J\"):\n",
    "        return wordnet.ADJ\n",
    "    elif tag.startswith(\"V\"):\n",
    "        return wordnet.VERB\n",
    "    elif tag.startswith(\"N\"):\n",
    "        return wordnet.NOUN\n",
    "    else:\n",
    "        return None\n",
    "\n",
    "def clean_text(text):\n",
    "    text = text.lower()\n",
    "    text = re.sub(r\"[^a-z\\s]\", \"\", text)\n",
    "    tokens = word_tokenize(text)\n",
    "    stop_words = set(stopwords.words(\"english\"))\n",
    "    tokens = [w for w in tokens if w not in stop_words]\n",
    "    tagged_tokens = pos_tag(tokens, lang=\"eng\")\n",
    "    lemmatizer = WordNetLemmatizer()\n",
    "    lemmatized = []\n",
    "    for word, tag in tagged_tokens:\n",
    "        wn_tag = get_wordnet_pos(tag)\n",
    "        if wn_tag:\n",
    "            lemma = lemmatizer.lemmatize(word, wn_tag)\n",
    "            if len(lemma) >= 3:\n",
    "                lemmatized.append(lemma)\n",
    "    return lemmatized\n",
    "\n",
    "sample_text = \"The cats are running quickly, but John’s dog is faster!\"\n",
    "print(clean_text(sample_text))\n"
   ]
  },
  {
   "cell_type": "markdown",
   "id": "bb68c035",
   "metadata": {},
   "source": [
    "### 📝 Assignment 6: Reflection\n",
    "\n",
    "* Answer in 2–3 sentences:\n",
    "\n",
    "    * Why is context memory important in chatbots?\n",
    "    * Why should beginners always check **API limits and pricing**?\n",
    "\n",
    "Context memory is crucial in chatbots because it allows them to maintain the thread of a conversation, reference previous user statements, and provide coherent and relevant responses. Without it, each user input would be treated as an isolated query, making the interaction feel broken and frustrating.\n",
    "\n",
    "Beginners should always check API limits and pricing to avoid unexpected charges and to understand the constraints of the service they are building on. This prevents their application from failing or incurring high costs once it moves beyond a simple prototype."
   ]
  },
  {
   "cell_type": "markdown",
   "id": "4b787de4",
   "metadata": {},
   "source": [
    "---\n",
    "\n",
    "### **Hints:**\n",
    "\n",
    "1) Stemming:\n",
    "    - Cuts off word endings to get the “root.”\n",
    "    - Very mechanical → may produce non-real words.\n",
    "    - Example:\n",
    "        - \"studies\" → \"studi\"\n",
    "        - \"running\" → \"run\"\n",
    "\n",
    "2) Lemmatization:\n",
    "    - Smarter → uses vocabulary + grammar rules.\n",
    "    - Always gives a real word (the **lemma**).\n",
    "    - Example:\n",
    "        - \"studies\" → \"study\"\n",
    "        - \"running\" → \"run\"\n",
    "\n",
    "3) Part-of-Speech (POS) tagging means labeling each word in a sentence with its grammatical role — like **noun, verb, adjective, adverb, pronoun, etc.**\n",
    "\n",
    "    - Example:\n",
    "        - Sentence → *“The cat is sleeping on the mat.”*\n",
    "\n",
    "    - POS tags →\n",
    "        - The → Determiner (DT)\n",
    "        - cat → Noun (NN)\n",
    "        - is → Verb (VBZ)\n",
    "        - sleeping → Verb (VBG)\n",
    "        - on → Preposition (IN)\n",
    "        - the → Determiner (DT)\n",
    "        - mat → Noun (NN)\n",
    "\n",
    "    - **In short:** POS tagging helps machines understand **how words function in a sentence**, which is useful in NLP tasks like machine translation, text classification, and question answering.\n"
   ]
  },
  {
   "cell_type": "markdown",
   "id": "3cec98bb",
   "metadata": {},
   "source": [
    "---\n",
    "\n",
    "### ✅ Recap\n",
    "\n",
    "This week you learned:\n",
    "\n",
    "* **LLMs**: Types, uses, must-knows.\n",
    "* **STT & TTS**: How they connect with LLMs.\n",
    "* **APIs**: Connecting to LLMs with Groq.\n",
    "* Built your first chatbot foundation."
   ]
  }
 ],
 "metadata": {
  "kernelspec": {
   "display_name": "Python 3 (ipykernel)",
   "language": "python",
   "name": "python3"
  },
  "language_info": {
   "codemirror_mode": {
    "name": "ipython",
    "version": 3
   },
   "file_extension": ".py",
   "mimetype": "text/x-python",
   "name": "python",
   "nbconvert_exporter": "python",
   "pygments_lexer": "ipython3",
   "version": "3.12.4"
  }
 },
 "nbformat": 4,
 "nbformat_minor": 5
}
